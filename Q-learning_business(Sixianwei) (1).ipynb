{
 "cells": [
  {
   "cell_type": "code",
   "execution_count": 58,
   "id": "6ac553ec",
   "metadata": {},
   "outputs": [],
   "source": [
    "import pandas as pd\n",
    "from sklearn.preprocessing import LabelEncoder\n",
    "import numpy as np\n",
    "import random\n",
    "import json\n",
    "import os\n"
   ]
  },
  {
   "cell_type": "code",
   "execution_count": 59,
   "id": "06732faf",
   "metadata": {},
   "outputs": [],
   "source": [
    "# 1️⃣ Load data\n",
    "df = pd.read_json('./merged_interaction_cleaned_data.json', lines=True, chunksize=300000)\n",
    "df = next(df)\n",
    "\n",
    "df = df[df['user_rating'] > 0].copy()\n",
    "df['business_average_rating'] = df['business_average_rating'].fillna(0)\n",
    "df['business_review_count'] = df['business_review_count'].fillna(0)\n",
    "df['city'] = df['city'].fillna('Unknown')\n",
    "\n"
   ]
  },
  {
   "cell_type": "code",
   "execution_count": 60,
   "id": "2363849a",
   "metadata": {},
   "outputs": [],
   "source": [
    "\n",
    "user_df = pd.read_json('./data/yelp_academic_dataset_user.json', lines=True, chunksize=100000)\n",
    "user_df = next(user_df)\n",
    "\n",
    "user_df = user_df[['user_id', 'review_count', 'average_stars', 'fans']]\n",
    "\n",
    "\n",
    "user_df = user_df.rename(columns={\n",
    "    'review_count': 'user_review_count',\n",
    "    'average_stars': 'user_average_stars',\n",
    "    'fans': 'user_fans'\n",
    "})\n",
    "\n",
    "\n",
    "df = df.merge(user_df, on='user_id', how='left')"
   ]
  },
  {
   "cell_type": "code",
   "execution_count": 61,
   "id": "83543047",
   "metadata": {},
   "outputs": [
    {
     "name": "stdout",
     "output_type": "stream",
     "text": [
      "✅ Q-learning 训练完成！\n",
      "🧑‍💼 Recommended user profiles for this merchant:\n",
      "1. Reviews: 14 | Avg Stars: 4.4 | Fans: 0\n",
      "2. Reviews: 141 | Avg Stars: 3.86 | Fans: 4\n",
      "3. Reviews: 2 | Avg Stars: 5.0 | Fans: 0\n",
      "4. Reviews: 28 | Avg Stars: 3.29 | Fans: 1\n",
      "5. Reviews: 30 | Avg Stars: 4.3 | Fans: 2\n",
      "6. Reviews: 32 | Avg Stars: 4.03 | Fans: 1\n",
      "7. Reviews: 34 | Avg Stars: 4.38 | Fans: 2\n",
      "8. Reviews: 36 | Avg Stars: 4.98 | Fans: 3\n",
      "9. Reviews: 4 | Avg Stars: 4.0 | Fans: 0\n",
      "10. Reviews: 425 | Avg Stars: 2.74 | Fans: 9\n",
      "11. Reviews: 91 | Avg Stars: 2.98 | Fans: 1\n"
     ]
    }
   ],
   "source": [
    "\n",
    "\n",
    "\n",
    "# State(Business)\n",
    "df['merchant_state'] = list(zip(\n",
    "    df['business_average_rating'],\n",
    "    df['business_review_count'],\n",
    "    df['city']\n",
    "))\n",
    "df['state_str'] = df['merchant_state'].apply(lambda x: '_'.join(map(str, x)))\n",
    "state_encoder = LabelEncoder()\n",
    "df['state_enc'] = state_encoder.fit_transform(df['state_str'])\n",
    "\n",
    "# action（User）\n",
    "df['user_type'] = list(zip(\n",
    "    df['user_review_count'],     # 用户一共写过多少条评论\n",
    "    df['user_average_stars'],    # 用户历史打分偏好\n",
    "    df['user_fans']              # 用户的粉丝数\n",
    "))\n",
    "df['user_type_str'] = df['user_type'].apply(lambda x: '_'.join(map(str, x)))\n",
    "\n",
    "action_encoder = LabelEncoder()\n",
    "df['action_enc'] = action_encoder.fit_transform(df['user_type_str'])\n",
    "\n",
    "# Reward\n",
    "df['reward'] = df['user_rating']\n",
    "\n",
    "# Initialize Q-table\n",
    "num_states = df['state_enc'].nunique()\n",
    "num_actions = df['action_enc'].nunique()\n",
    "Q = np.zeros((num_states, num_actions))\n",
    "\n",
    "# Q-learning training\n",
    "alpha = 0.1\n",
    "gamma = 0.9\n",
    "epsilon = 0.1\n",
    "\n",
    "states = df['state_enc'].values\n",
    "actions = df['action_enc'].values\n",
    "rewards = df['reward'].values\n",
    "\n",
    "for epoch in range(10):\n",
    "    for i in range(len(df) - 1):\n",
    "        s = states[i]\n",
    "        a = actions[i]\n",
    "        r = rewards[i]\n",
    "        s_next = states[i + 1]\n",
    "\n",
    "        if random.random() < epsilon:\n",
    "            a_next = random.randint(0, num_actions - 1)\n",
    "        else:\n",
    "            a_next = np.argmax(Q[s_next])\n",
    "\n",
    "        Q[s, a] += alpha * (r + gamma * Q[s_next, a_next] - Q[s, a])\n",
    "\n",
    "print(\" Q-learning training successful！\")\n",
    "\n",
    "def recommend_user_profiles_by_threshold(merchant_state, threshold=4.0):\n",
    "    state_str = '_'.join(map(str, merchant_state))\n",
    "    state_enc = state_encoder.transform([state_str])[0]\n",
    "\n",
    "    q_values = Q[state_enc]\n",
    "    selected_indices = np.where(q_values >= threshold)[0]\n",
    "\n",
    "    selected_user_type_strs = action_encoder.inverse_transform(selected_indices)\n",
    "\n",
    "    def decode_user_type(user_type_str):\n",
    "        try:\n",
    "            review_count, average_stars, fans = user_type_str.split('_')\n",
    "            if 'nan' in [review_count, average_stars, fans]:\n",
    "                return None  # 忽略无效值\n",
    "            return {\n",
    "                'user_review_count': int(float(review_count)),\n",
    "                'user_average_stars': float(average_stars),\n",
    "                'user_fans': int(float(fans))\n",
    "            }\n",
    "        except:\n",
    "            return None\n",
    "\n",
    "    # 跳过 None 的条目\n",
    "    readable_profiles = [decode_user_type(s) for s in selected_user_type_strs]\n",
    "    readable_profiles = [p for p in readable_profiles if p is not None]\n",
    "\n",
    "    return readable_profiles\n",
    "\n",
    "\n",
    "sample_state = df.iloc[0]['merchant_state']\n",
    "user_profiles = recommend_user_profiles_by_threshold(sample_state)\n",
    "\n",
    "if user_profiles:\n",
    "    print(\"✅Recommended user profiles for this merchant:\")\n",
    "    for i, profile in enumerate(user_profiles, 1):\n",
    "        print(f\"{i}. Reviews: {profile['user_review_count']} | Avg Stars: {profile['user_average_stars']} | Fans: {profile['user_fans']}\")\n",
    "else:\n",
    "    print(\"🧑‍💼No suitable user profiles found (or all were invalid).\")"
   ]
  },
  {
   "cell_type": "code",
   "execution_count": 62,
   "id": "ab90cb8d",
   "metadata": {},
   "outputs": [],
   "source": [
    "#EVALUATION\n",
    "def evaluate_precision_recall_f1_merchant_view(df, Q, top_k=5, rating_threshold=4.0):\n",
    "    precision_list = []\n",
    "    recall_list = []\n",
    "    f1_list = []\n",
    "\n",
    "    # 获取所有唯一的商户状态（merchant_state 是 tuple）\n",
    "    merchant_states = df['merchant_state'].unique()\n",
    "\n",
    "    for state in merchant_states:\n",
    "        # 编码商户状态\n",
    "        state_str = '_'.join(map(str, state))\n",
    "        try:\n",
    "            state_enc = state_encoder.transform([state_str])[0]\n",
    "        except:\n",
    "            continue  # 无法编码的跳过\n",
    "\n",
    "        # 推荐的用户类型（动作）\n",
    "        q_values = Q[state_enc]\n",
    "        top_actions = np.argsort(q_values)[::-1][:top_k]\n",
    "        recommended_types = set(top_actions)\n",
    "\n",
    "        # 找到所有在该状态下发生过的 user_type，并 reward >= rating_threshold 的记录\n",
    "        matched_rows = df[df['merchant_state'] == state]\n",
    "        liked_user_types = matched_rows[matched_rows['reward'] >= rating_threshold]['action_enc'].unique()\n",
    "        true_likes = set(liked_user_types)\n",
    "\n",
    "        if not true_likes:\n",
    "            continue  # 如果没有 Ground Truth，跳过\n",
    "\n",
    "        hits = recommended_types & true_likes\n",
    "\n",
    "        precision = len(hits) / top_k\n",
    "        recall = len(hits) / len(true_likes)\n",
    "        f1 = 2 * precision * recall / (precision + recall) if (precision + recall) else 0\n",
    "\n",
    "        precision_list.append(precision)\n",
    "        recall_list.append(recall)\n",
    "        f1_list.append(f1)\n",
    "\n",
    "    avg_precision = np.mean(precision_list)\n",
    "    avg_recall = np.mean(recall_list)\n",
    "    avg_f1 = np.mean(f1_list)\n",
    "\n",
    "    return avg_precision, avg_recall, avg_f1\n"
   ]
  },
  {
   "cell_type": "code",
   "execution_count": 63,
   "id": "cd19ae0a",
   "metadata": {},
   "outputs": [
    {
     "name": "stdout",
     "output_type": "stream",
     "text": [
      "📊 Evaluation based on merchant-to-user-type recommendation:\n",
      "Precision@5: 0.5819\n",
      "Recall@5: 0.8204\n",
      "F1-Score@5: 0.5595\n"
     ]
    }
   ],
   "source": [
    "precision, recall, f1 = evaluate_precision_recall_f1_merchant_view(df, Q)\n",
    "\n",
    "print(f\"📊 Evaluation based on merchant-to-user-type recommendation:\")\n",
    "print(f\"Precision@{5}: {precision:.4f}\")\n",
    "print(f\"Recall@{5}: {recall:.4f}\")\n",
    "print(f\"F1-Score@{5}: {f1:.4f}\")\n"
   ]
  },
  {
   "cell_type": "code",
   "execution_count": null,
   "id": "2c4f0600",
   "metadata": {},
   "outputs": [],
   "source": []
  },
  {
   "cell_type": "code",
   "execution_count": null,
   "id": "f267fe45",
   "metadata": {},
   "outputs": [],
   "source": []
  },
  {
   "cell_type": "code",
   "execution_count": null,
   "id": "ccc943b7",
   "metadata": {},
   "outputs": [],
   "source": []
  },
  {
   "cell_type": "code",
   "execution_count": null,
   "id": "e10e8efa",
   "metadata": {},
   "outputs": [],
   "source": []
  },
  {
   "cell_type": "code",
   "execution_count": null,
   "id": "f03b9515",
   "metadata": {},
   "outputs": [],
   "source": []
  },
  {
   "cell_type": "code",
   "execution_count": null,
   "id": "94ecaddd",
   "metadata": {},
   "outputs": [],
   "source": []
  },
  {
   "cell_type": "code",
   "execution_count": null,
   "id": "fa625ee1",
   "metadata": {},
   "outputs": [],
   "source": []
  },
  {
   "cell_type": "code",
   "execution_count": null,
   "id": "c0f2a043",
   "metadata": {},
   "outputs": [],
   "source": []
  },
  {
   "cell_type": "code",
   "execution_count": null,
   "id": "c8d2be72",
   "metadata": {},
   "outputs": [],
   "source": []
  },
  {
   "cell_type": "code",
   "execution_count": null,
   "id": "1e4aae00",
   "metadata": {},
   "outputs": [],
   "source": []
  },
  {
   "cell_type": "code",
   "execution_count": null,
   "id": "bb0c51ac",
   "metadata": {},
   "outputs": [],
   "source": []
  },
  {
   "cell_type": "code",
   "execution_count": null,
   "id": "303d64dd",
   "metadata": {},
   "outputs": [],
   "source": []
  },
  {
   "cell_type": "code",
   "execution_count": null,
   "id": "58ad2c25",
   "metadata": {},
   "outputs": [],
   "source": []
  },
  {
   "cell_type": "code",
   "execution_count": null,
   "id": "0a8d2bb0",
   "metadata": {},
   "outputs": [],
   "source": []
  },
  {
   "cell_type": "code",
   "execution_count": null,
   "id": "03f64956",
   "metadata": {},
   "outputs": [],
   "source": []
  },
  {
   "cell_type": "code",
   "execution_count": null,
   "id": "ea78ec35",
   "metadata": {},
   "outputs": [],
   "source": []
  },
  {
   "cell_type": "code",
   "execution_count": null,
   "id": "43f68e44",
   "metadata": {},
   "outputs": [],
   "source": []
  },
  {
   "cell_type": "code",
   "execution_count": null,
   "id": "94650f36",
   "metadata": {},
   "outputs": [],
   "source": []
  },
  {
   "cell_type": "code",
   "execution_count": null,
   "id": "d56ab066",
   "metadata": {},
   "outputs": [],
   "source": []
  },
  {
   "cell_type": "code",
   "execution_count": null,
   "id": "56665963",
   "metadata": {},
   "outputs": [],
   "source": []
  },
  {
   "cell_type": "code",
   "execution_count": null,
   "id": "53da5966",
   "metadata": {},
   "outputs": [],
   "source": []
  }
 ],
 "metadata": {
  "kernelspec": {
   "display_name": "Python 3 (ipykernel)",
   "language": "python",
   "name": "python3"
  },
  "language_info": {
   "codemirror_mode": {
    "name": "ipython",
    "version": 3
   },
   "file_extension": ".py",
   "mimetype": "text/x-python",
   "name": "python",
   "nbconvert_exporter": "python",
   "pygments_lexer": "ipython3",
   "version": "3.7.8"
  }
 },
 "nbformat": 4,
 "nbformat_minor": 5
}
