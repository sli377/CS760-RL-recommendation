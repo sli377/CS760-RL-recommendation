{
 "cells": [
  {
   "cell_type": "code",
   "execution_count": 1,
   "id": "f4b95035",
   "metadata": {},
   "outputs": [],
   "source": [
    "import pandas as pd\n",
    "from sklearn.feature_extraction.text import TfidfVectorizer\n",
    "from sklearn.metrics.pairwise import linear_kernel\n",
    "from surprise import Dataset, Reader, SVD\n",
    "import warnings\n",
    "warnings.filterwarnings('ignore')\n",
    "from IPython.display import display\n",
    "from sklearn.neighbors import NearestNeighbors\n",
    "import random\n",
    "random.seed(10)"
   ]
  },
  {
   "cell_type": "markdown",
   "id": "3cef2b05",
   "metadata": {},
   "source": [
    "## Read in dataset"
   ]
  },
  {
   "cell_type": "code",
   "execution_count": 2,
   "id": "b9a2396b",
   "metadata": {},
   "outputs": [],
   "source": [
    "def read_first_n_lines(file_path, n=300000):\n",
    "    with open(file_path, 'r', encoding='utf-8') as f:\n",
    "        lines = [next(f) for _ in range(n)]\n",
    "    return pd.read_json(''.join(lines), lines=True)"
   ]
  },
  {
   "cell_type": "code",
   "execution_count": 3,
   "id": "f5152892",
   "metadata": {
    "scrolled": true
   },
   "outputs": [],
   "source": [
    "clean_df = read_first_n_lines('merged_interaction_cleaned_data.json', 300000)\n",
    "#display(clean_df.head())"
   ]
  },
  {
   "cell_type": "markdown",
   "id": "6f306448",
   "metadata": {},
   "source": [
    "## Step 1: Filter and Prepare Data"
   ]
  },
  {
   "cell_type": "code",
   "execution_count": 4,
   "id": "e028ee40",
   "metadata": {},
   "outputs": [],
   "source": [
    "# Filter: keep only active users and popular businesses\n",
    "user_counts = clean_df['user_id'].value_counts()\n",
    "item_counts = clean_df['business_id'].value_counts()\n",
    "\n",
    "cf_df = clean_df[\n",
    "    clean_df['user_id'].isin(user_counts[user_counts >= 5].index) &\n",
    "    clean_df['business_id'].isin(item_counts[item_counts >= 5].index)]\n",
    "# Reset index\n",
    "cf_df = cf_df.reset_index(drop=True)"
   ]
  },
  {
   "cell_type": "markdown",
   "id": "2df57458",
   "metadata": {},
   "source": [
    "This filters the original `clean_df` to create a new DataFrame `cf_df` that includes:\n",
    "\n",
    "- Only active users: those who wrote at least 5 reviews.\n",
    "\n",
    "- Only popular businesses: those with at least 5 reviews.\n"
   ]
  },
  {
   "cell_type": "markdown",
   "id": "0fc74c34",
   "metadata": {},
   "source": [
    "This is important because:\n",
    "\n",
    "- Collaborative Filtering performs poorly on sparse data.\n",
    "\n",
    "- Filtering out infrequent users/items helps create a denser user-item matrix, improving recommendation quality."
   ]
  },
  {
   "cell_type": "code",
   "execution_count": 5,
   "id": "cb272da8",
   "metadata": {},
   "outputs": [],
   "source": [
    "# Prepare business metadata (drop duplicates)\n",
    "business_df = clean_df.drop_duplicates(subset='business_id')[['business_id', 'business_name', 'categories']].copy()\n",
    "business_df['categories'] = business_df['categories'].fillna('').astype(str)"
   ]
  },
  {
   "cell_type": "markdown",
   "id": "5b29d11d",
   "metadata": {},
   "source": [
    "## Step 2: Collaborative Filtering (SVD)"
   ]
  },
  {
   "cell_type": "code",
   "execution_count": 6,
   "id": "da3ac1b4",
   "metadata": {},
   "outputs": [],
   "source": [
    "# Create Surprise dataset\n",
    "reader = Reader(rating_scale=(1, 5))\n",
    "data = Dataset.load_from_df(cf_df[['user_id', 'business_id', 'user_rating']], reader)\n",
    "trainset = data.build_full_trainset()"
   ]
  },
  {
   "cell_type": "code",
   "execution_count": 7,
   "id": "72c9c3aa",
   "metadata": {},
   "outputs": [
    {
     "data": {
      "text/plain": [
       "<surprise.prediction_algorithms.matrix_factorization.SVD at 0x22273553dd0>"
      ]
     },
     "execution_count": 7,
     "metadata": {},
     "output_type": "execute_result"
    }
   ],
   "source": [
    "# Train SVD model\n",
    "svd_model = SVD()\n",
    "svd_model.fit(trainset)"
   ]
  },
  {
   "cell_type": "code",
   "execution_count": 8,
   "id": "6ca2529b",
   "metadata": {},
   "outputs": [],
   "source": [
    "# Get all business IDs\n",
    "all_business_ids = cf_df['business_id'].unique()\n",
    "\n",
    "def recommend_cf(user_id, model, business_ids, cf_df, business_df, n=5):\n",
    "    rated = set(cf_df[cf_df['user_id'] == user_id]['business_id'])\n",
    "    predictions = [model.predict(user_id, bid) for bid in business_ids if bid not in rated]\n",
    "    predictions.sort(key=lambda x: x.est, reverse=True)\n",
    "\n",
    "    result = []\n",
    "    for pred in predictions:\n",
    "        bid = pred.iid\n",
    "        match = business_df[business_df['business_id'] == bid]\n",
    "        if not match.empty and pd.notna(match.iloc[0]['business_name']):\n",
    "            business_info = match.iloc[0]\n",
    "            result.append({\n",
    "                'business_id': business_info['business_id'],\n",
    "                'business_name': business_info['business_name'],\n",
    "                'categories': business_info['categories'],\n",
    "                'predicted_rating': round(pred.est, 2)\n",
    "            })\n",
    "        if len(result) == n:\n",
    "            break  # Stop once we have n valid recommendations\n",
    "\n",
    "    return pd.DataFrame(result)\n"
   ]
  },
  {
   "cell_type": "code",
   "execution_count": 9,
   "id": "2500f7ec",
   "metadata": {
    "scrolled": true
   },
   "outputs": [
    {
     "name": "stdout",
     "output_type": "stream",
     "text": [
      "Top 5 Collaborative Filtering Recommendations:\n"
     ]
    },
    {
     "data": {
      "text/html": [
       "<div>\n",
       "<style scoped>\n",
       "    .dataframe tbody tr th:only-of-type {\n",
       "        vertical-align: middle;\n",
       "    }\n",
       "\n",
       "    .dataframe tbody tr th {\n",
       "        vertical-align: top;\n",
       "    }\n",
       "\n",
       "    .dataframe thead th {\n",
       "        text-align: right;\n",
       "    }\n",
       "</style>\n",
       "<table border=\"1\" class=\"dataframe\">\n",
       "  <thead>\n",
       "    <tr style=\"text-align: right;\">\n",
       "      <th></th>\n",
       "      <th>Business ID</th>\n",
       "      <th>Business Name</th>\n",
       "      <th>Categories</th>\n",
       "      <th>Predicted Rating</th>\n",
       "    </tr>\n",
       "  </thead>\n",
       "  <tbody>\n",
       "    <tr>\n",
       "      <th>1</th>\n",
       "      <td>kpK6SmxIiNoGPNhlEGiL4w</td>\n",
       "      <td>Trattoria Marcella</td>\n",
       "      <td>['Italian', 'Local Flavor', 'Restaurants']</td>\n",
       "      <td>3.70</td>\n",
       "    </tr>\n",
       "    <tr>\n",
       "      <th>2</th>\n",
       "      <td>u_S84xiDCRJ3CV204CIYuQ</td>\n",
       "      <td>Silver In the City</td>\n",
       "      <td>['Event Planning &amp; Services', 'Gift Shops', 'H...</td>\n",
       "      <td>3.52</td>\n",
       "    </tr>\n",
       "    <tr>\n",
       "      <th>3</th>\n",
       "      <td>AzseSGgDC6bVtMPEYo1CNQ</td>\n",
       "      <td>Creole Creamery</td>\n",
       "      <td>['Food', 'Ice Cream &amp; Frozen Yogurt']</td>\n",
       "      <td>3.40</td>\n",
       "    </tr>\n",
       "    <tr>\n",
       "      <th>4</th>\n",
       "      <td>FHNIvNgh3fS7VZQq2Y3dsA</td>\n",
       "      <td>Cheu Noodle Bar</td>\n",
       "      <td>['Asian Fusion', 'Tapas/Small Plates', 'Americ...</td>\n",
       "      <td>3.33</td>\n",
       "    </tr>\n",
       "    <tr>\n",
       "      <th>5</th>\n",
       "      <td>mzZ_WTb2zvyJMBkm84B-WA</td>\n",
       "      <td>Dorignac's Food Center</td>\n",
       "      <td>['Donuts', 'Delis', 'Event Planning &amp; Services...</td>\n",
       "      <td>3.32</td>\n",
       "    </tr>\n",
       "  </tbody>\n",
       "</table>\n",
       "</div>"
      ],
      "text/plain": [
       "              Business ID           Business Name  \\\n",
       "1  kpK6SmxIiNoGPNhlEGiL4w      Trattoria Marcella   \n",
       "2  u_S84xiDCRJ3CV204CIYuQ      Silver In the City   \n",
       "3  AzseSGgDC6bVtMPEYo1CNQ         Creole Creamery   \n",
       "4  FHNIvNgh3fS7VZQq2Y3dsA         Cheu Noodle Bar   \n",
       "5  mzZ_WTb2zvyJMBkm84B-WA  Dorignac's Food Center   \n",
       "\n",
       "                                          Categories  Predicted Rating  \n",
       "1         ['Italian', 'Local Flavor', 'Restaurants']              3.70  \n",
       "2  ['Event Planning & Services', 'Gift Shops', 'H...              3.52  \n",
       "3              ['Food', 'Ice Cream & Frozen Yogurt']              3.40  \n",
       "4  ['Asian Fusion', 'Tapas/Small Plates', 'Americ...              3.33  \n",
       "5  ['Donuts', 'Delis', 'Event Planning & Services...              3.32  "
      ]
     },
     "metadata": {},
     "output_type": "display_data"
    }
   ],
   "source": [
    "# Choose a user from dataset\n",
    "sample_user_id = cf_df['user_id'].iloc[100]\n",
    "\n",
    "# Collaborative Filtering Top 5\n",
    "print(\"Top 5 Collaborative Filtering Recommendations:\")\n",
    "cf_top5 = recommend_cf(sample_user_id, svd_model, all_business_ids, cf_df, business_df)\n",
    "\n",
    "# Format column names and display as a table\n",
    "cf_top5_pretty = cf_top5.rename(columns={\n",
    "    'business_id': 'Business ID',\n",
    "    'business_name': 'Business Name',\n",
    "    'categories': 'Categories',\n",
    "    'predicted_rating': 'Predicted Rating'\n",
    "}).reset_index(drop=True)\n",
    "\n",
    "cf_top5_pretty.index += 1  # Start index at 1\n",
    "\n",
    "display(cf_top5_pretty)"
   ]
  },
  {
   "cell_type": "markdown",
   "id": "a490f155",
   "metadata": {},
   "source": [
    "`Predicted Rating` value is the model's prediction of how much a user would rate a business they haven't interacted with yet."
   ]
  },
  {
   "cell_type": "markdown",
   "id": "7f496823",
   "metadata": {},
   "source": [
    "## Step 3: Build TF-IDF for Content-Based Filtering"
   ]
  },
  {
   "cell_type": "code",
   "execution_count": 10,
   "id": "703ebf4a",
   "metadata": {},
   "outputs": [],
   "source": [
    "#business_df['categories'] = business_df['categories'].fillna('').astype(str)\n",
    "#business_df = business_df[business_df['categories'].str.strip() != '']"
   ]
  },
  {
   "cell_type": "code",
   "execution_count": 11,
   "id": "2d5565bc",
   "metadata": {},
   "outputs": [],
   "source": [
    "tfidf = TfidfVectorizer(stop_words='english')\n",
    "tfidf_matrix = tfidf.fit_transform(business_df['categories'])\n",
    "\n",
    "# Fit model using cosine distance\n",
    "nn_model = NearestNeighbors(metric='cosine', algorithm='brute')\n",
    "nn_model.fit(tfidf_matrix)\n",
    "\n",
    "# Index map\n",
    "business_idx = pd.Series(business_df.index, index=business_df['business_id']).drop_duplicates()"
   ]
  },
  {
   "cell_type": "markdown",
   "id": "8ec3adf3",
   "metadata": {},
   "source": [
    "Cosine similarity matrix is too large to fit into memory. Trying to create a full pairwise similarity matrix between ~50,000 businesses, which results in over 2.5 billion values. Thus, using `NearestNeighbours` is a better option."
   ]
  },
  {
   "cell_type": "code",
   "execution_count": 13,
   "id": "e5c66212",
   "metadata": {},
   "outputs": [],
   "source": [
    "def content_based_top_5_nn(user_id, cf_df, business_df, tfidf_matrix, nn_model, business_idx, top_n=5):\n",
    "    # Get user's highest-rated business\n",
    "    user_ratings = cf_df[cf_df['user_id'] == user_id]\n",
    "    if user_ratings.empty:\n",
    "        return pd.DataFrame()\n",
    "\n",
    "    top_rated = user_ratings.sort_values(by='user_rating', ascending=False).iloc[0]\n",
    "    target_business_id = top_rated['business_id']\n",
    "\n",
    "    if target_business_id not in business_idx:\n",
    "        return pd.DataFrame()\n",
    "\n",
    "    # Get TF-IDF vector for that business\n",
    "    idx = business_idx[target_business_id]\n",
    "    business_vector = tfidf_matrix[idx]\n",
    "\n",
    "    # Find top similar businesses\n",
    "    distances, indices = nn_model.kneighbors(business_vector, n_neighbors=top_n + 10)  # get extra to filter later\n",
    "    similarities = 1 - distances.flatten()\n",
    "\n",
    "    # Build results, excluding the target itself\n",
    "    rec_indices = indices.flatten()[1:]\n",
    "    sim_scores = similarities[1:]\n",
    "\n",
    "    # Create DataFrame\n",
    "    result = business_df.iloc[rec_indices][['business_id', 'business_name', 'categories']].copy()\n",
    "    result['similarity_score'] = sim_scores.round(2)\n",
    "\n",
    "    # Filter out businesses with missing or None business names\n",
    "    result = result[result['business_name'].notna()]\n",
    "\n",
    "    # Return top_n valid recommendations\n",
    "    return result.head(top_n).reset_index(drop=True)\n"
   ]
  },
  {
   "cell_type": "code",
   "execution_count": 14,
   "id": "b5ef8e50",
   "metadata": {},
   "outputs": [
    {
     "name": "stdout",
     "output_type": "stream",
     "text": [
      "Top 5 Content-Based Recommendations (NearestNeighbors):\n"
     ]
    },
    {
     "data": {
      "text/html": [
       "<div>\n",
       "<style scoped>\n",
       "    .dataframe tbody tr th:only-of-type {\n",
       "        vertical-align: middle;\n",
       "    }\n",
       "\n",
       "    .dataframe tbody tr th {\n",
       "        vertical-align: top;\n",
       "    }\n",
       "\n",
       "    .dataframe thead th {\n",
       "        text-align: right;\n",
       "    }\n",
       "</style>\n",
       "<table border=\"1\" class=\"dataframe\">\n",
       "  <thead>\n",
       "    <tr style=\"text-align: right;\">\n",
       "      <th></th>\n",
       "      <th>Business ID</th>\n",
       "      <th>Business Name</th>\n",
       "      <th>Categories</th>\n",
       "      <th>Similarity Score</th>\n",
       "    </tr>\n",
       "  </thead>\n",
       "  <tbody>\n",
       "    <tr>\n",
       "      <th>1</th>\n",
       "      <td>AwmeLVLEfdFoCa0LaF0UYA</td>\n",
       "      <td>The Beer Store</td>\n",
       "      <td>['Food', 'Beer', 'Wine &amp; Spirits']</td>\n",
       "      <td>1.0</td>\n",
       "    </tr>\n",
       "    <tr>\n",
       "      <th>2</th>\n",
       "      <td>qrVCN6M272dDdEKPB1E44w</td>\n",
       "      <td>Moore Beverage</td>\n",
       "      <td>['Food', 'Beer', 'Wine &amp; Spirits']</td>\n",
       "      <td>1.0</td>\n",
       "    </tr>\n",
       "    <tr>\n",
       "      <th>3</th>\n",
       "      <td>9EgoCSRFfXUEGiJWFQLJ1w</td>\n",
       "      <td>Fine Wine &amp; Good Spirits - Premium Collection</td>\n",
       "      <td>['Beer', 'Wine &amp; Spirits', 'Food']</td>\n",
       "      <td>1.0</td>\n",
       "    </tr>\n",
       "    <tr>\n",
       "      <th>4</th>\n",
       "      <td>mSAJEUM6soxsZ9Uk3kXlmQ</td>\n",
       "      <td>Brewer's Haven</td>\n",
       "      <td>['Beer', 'Wine &amp; Spirits', 'Food']</td>\n",
       "      <td>1.0</td>\n",
       "    </tr>\n",
       "    <tr>\n",
       "      <th>5</th>\n",
       "      <td>gM0HFwD_myHUAUSUN2boug</td>\n",
       "      <td>Crown Liquors</td>\n",
       "      <td>['Food', 'Beer', 'Wine &amp; Spirits']</td>\n",
       "      <td>1.0</td>\n",
       "    </tr>\n",
       "  </tbody>\n",
       "</table>\n",
       "</div>"
      ],
      "text/plain": [
       "              Business ID                                  Business Name  \\\n",
       "1  AwmeLVLEfdFoCa0LaF0UYA                                 The Beer Store   \n",
       "2  qrVCN6M272dDdEKPB1E44w                                 Moore Beverage   \n",
       "3  9EgoCSRFfXUEGiJWFQLJ1w  Fine Wine & Good Spirits - Premium Collection   \n",
       "4  mSAJEUM6soxsZ9Uk3kXlmQ                                 Brewer's Haven   \n",
       "5  gM0HFwD_myHUAUSUN2boug                                  Crown Liquors   \n",
       "\n",
       "                           Categories  Similarity Score  \n",
       "1  ['Food', 'Beer', 'Wine & Spirits']               1.0  \n",
       "2  ['Food', 'Beer', 'Wine & Spirits']               1.0  \n",
       "3  ['Beer', 'Wine & Spirits', 'Food']               1.0  \n",
       "4  ['Beer', 'Wine & Spirits', 'Food']               1.0  \n",
       "5  ['Food', 'Beer', 'Wine & Spirits']               1.0  "
      ]
     },
     "metadata": {},
     "output_type": "display_data"
    }
   ],
   "source": [
    "#sample_user_id = cf_df['user_id'].iloc[100]\n",
    "\n",
    "print(\"Top 5 Content-Based Recommendations (NearestNeighbors):\")\n",
    "cbf_nn_top5 = content_based_top_5_nn(\n",
    "    sample_user_id, cf_df, business_df, tfidf_matrix, nn_model, business_idx\n",
    ")\n",
    "\n",
    "# Pretty display\n",
    "cbf_nn_top5_pretty = cbf_nn_top5.rename(columns={\n",
    "    'business_id': 'Business ID',\n",
    "    'business_name': 'Business Name',\n",
    "    'categories': 'Categories',\n",
    "    'similarity_score': 'Similarity Score'\n",
    "})\n",
    "cbf_nn_top5_pretty.index += 1\n",
    "display(cbf_nn_top5_pretty)"
   ]
  },
  {
   "cell_type": "markdown",
   "id": "a0f4b5de",
   "metadata": {},
   "source": [
    "- The similarity score in content-based filtering tells how similar a recommended business is to another business the user liked based on their categories.\n",
    "\n",
    "- Score of 1.0 means perfect match"
   ]
  },
  {
   "cell_type": "markdown",
   "id": "51fc375f",
   "metadata": {},
   "source": [
    "- Collaborative Filtering using matrix factorization (SVD) and Content-Based Filtering using TF-IDF on categories"
   ]
  },
  {
   "cell_type": "markdown",
   "id": "0a49bf86",
   "metadata": {},
   "source": [
    "Collaborative Filtering (SVD) \n",
    "\n",
    "- Description : Learns latent user & item features\t\n",
    "\n",
    "- Output: Top 5 recommended business_ids based on predicted rating\n",
    "\n",
    "\n",
    "\n",
    "\n",
    "\n",
    "Content-Based Filtering\n",
    "\n",
    "- Description : Uses TF-IDF on business categories\n",
    "\n",
    "- Output: Top 5 similar businesses to the user's favorite\n"
   ]
  },
  {
   "cell_type": "markdown",
   "id": "3c03cd2f",
   "metadata": {},
   "source": [
    "### Evaluation - CF"
   ]
  },
  {
   "cell_type": "code",
   "execution_count": 15,
   "id": "4af0935f",
   "metadata": {},
   "outputs": [],
   "source": [
    "from collections import defaultdict\n",
    "import numpy as np\n",
    "\n",
    "def precision_f1_at_k(predictions, k=5, threshold=3.5):\n",
    "    user_metrics = defaultdict(lambda: {'tp': 0, 'fp': 0, 'fn': 0})\n",
    "\n",
    "    for uid, iid, true_r, est, _ in predictions:\n",
    "        relevant = true_r >= threshold\n",
    "        recommended = est >= threshold\n",
    "\n",
    "        if recommended and relevant:\n",
    "            user_metrics[uid]['tp'] += 1\n",
    "        elif recommended and not relevant:\n",
    "            user_metrics[uid]['fp'] += 1\n",
    "        elif not recommended and relevant:\n",
    "            user_metrics[uid]['fn'] += 1\n",
    "\n",
    "    precisions = []\n",
    "    f1_scores = []\n",
    "\n",
    "    for uid in user_metrics:\n",
    "        tp = user_metrics[uid]['tp']\n",
    "        fp = user_metrics[uid]['fp']\n",
    "        fn = user_metrics[uid]['fn']\n",
    "\n",
    "        if tp + fp > 0:\n",
    "            precision = tp / (tp + fp)\n",
    "            precisions.append(precision)\n",
    "\n",
    "            recall = tp / (tp + fn) if (tp + fn) > 0 else 0\n",
    "            if precision + recall > 0:\n",
    "                f1 = 2 * precision * recall / (precision + recall)\n",
    "                f1_scores.append(f1)\n",
    "\n",
    "    return round(np.mean(precisions), 4), round(np.mean(f1_scores), 4)"
   ]
  },
  {
   "cell_type": "code",
   "execution_count": 16,
   "id": "fccedf67",
   "metadata": {},
   "outputs": [
    {
     "name": "stdout",
     "output_type": "stream",
     "text": [
      "Precision@5: 0.6865\n",
      "F1@5: 0.7977\n"
     ]
    }
   ],
   "source": [
    "from surprise.model_selection import train_test_split\n",
    "\n",
    "# Split dataset and retrain the model\n",
    "trainset, testset = train_test_split(data, test_size=0.2)\n",
    "algo = SVD()\n",
    "algo.fit(trainset)\n",
    "predictions = algo.test(testset)\n",
    "\n",
    "# Evaluate\n",
    "prec, f1 = precision_f1_at_k(predictions, k=5)\n",
    "print(f\"Precision@5: {prec}\")\n",
    "print(f\"F1@5: {f1}\")"
   ]
  },
  {
   "cell_type": "markdown",
   "id": "511d278e",
   "metadata": {},
   "source": [
    "68.65% of the items shown in the top-5 are relevant.\n",
    "F1 balances precision and the chance of missing relevant ones."
   ]
  },
  {
   "cell_type": "markdown",
   "id": "c392cf20",
   "metadata": {},
   "source": [
    "### Evaluation - CB"
   ]
  },
  {
   "cell_type": "code",
   "execution_count": 17,
   "id": "2186df5d",
   "metadata": {},
   "outputs": [],
   "source": [
    "def evaluate_cbf_precision_f1(user_id, cf_df, recommendations, threshold=3):\n",
    "    \n",
    "    # Get businesses the user rated as relevant (≥ threshold)\n",
    "    relevant_businesses = set(cf_df[(cf_df['user_id'] == user_id) & (cf_df['user_rating'] >= threshold)]['business_id'])\n",
    "\n",
    "    if not relevant_businesses:\n",
    "        return None, None  # Can't evaluate without ground truth\n",
    "\n",
    "    # Get recommended businesses\n",
    "    rec_businesses = set(recommendations['business_id'])\n",
    "\n",
    "    # Compute true positives, false positives, false negatives\n",
    "    tp = len(rec_businesses & relevant_businesses)\n",
    "    fp = len(rec_businesses - relevant_businesses)\n",
    "    fn = len(relevant_businesses - rec_businesses)\n",
    "\n",
    "    precision = tp / (tp + fp) if (tp + fp) > 0 else 0\n",
    "    recall = tp / (tp + fn) if (tp + fn) > 0 else 0\n",
    "    f1 = 2 * precision * recall / (precision + recall) if (precision + recall) > 0 else 0\n",
    "\n",
    "    return round(precision, 4), round(f1, 4)"
   ]
  },
  {
   "cell_type": "code",
   "execution_count": 18,
   "id": "75377870",
   "metadata": {},
   "outputs": [
    {
     "name": "stdout",
     "output_type": "stream",
     "text": [
      "CBF Precision@5: 0.2\n",
      "CBF F1@5: 0.25\n"
     ]
    }
   ],
   "source": [
    "sample_user = cf_df['user_id'].iloc[100]\n",
    "\n",
    "cbf_top5 = content_based_top_5_nn(\n",
    "    sample_user, cf_df, business_df, tfidf_matrix, nn_model, business_idx\n",
    ")\n",
    "\n",
    "cbf_prec, cbf_f1 = evaluate_cbf_precision_f1(sample_user, cf_df, cbf_top5)\n",
    "\n",
    "if cbf_prec is not None:\n",
    "    print(f\"CBF Precision@5: {cbf_prec}\")\n",
    "    print(f\"CBF F1@5: {cbf_f1}\")\n",
    "else:\n",
    "    print(\"CBF Evaluation skipped: no relevant businesses found for this user.\")"
   ]
  },
  {
   "cell_type": "markdown",
   "id": "edbde4d6",
   "metadata": {},
   "source": [
    "High similarity means the model did its job, but low Precision@5 means the recommendations didn't align with the user’s actual history — often because of sparse ratings or strict thresholds.\n",
    "\n",
    "Though similarity scores were high, Precision@5 was lower because many recommended businesses were not rated by the user.”"
   ]
  },
  {
   "cell_type": "code",
   "execution_count": null,
   "id": "b6819d7b",
   "metadata": {},
   "outputs": [],
   "source": []
  }
 ],
 "metadata": {
  "kernelspec": {
   "display_name": "Python 3 (ipykernel)",
   "language": "python",
   "name": "python3"
  },
  "language_info": {
   "codemirror_mode": {
    "name": "ipython",
    "version": 3
   },
   "file_extension": ".py",
   "mimetype": "text/x-python",
   "name": "python",
   "nbconvert_exporter": "python",
   "pygments_lexer": "ipython3",
   "version": "3.11.5"
  }
 },
 "nbformat": 4,
 "nbformat_minor": 5
}
