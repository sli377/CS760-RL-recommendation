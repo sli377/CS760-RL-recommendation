{
 "cells": [
  {
   "cell_type": "code",
   "execution_count": 61,
   "id": "fb06108c",
   "metadata": {},
   "outputs": [
    {
     "name": "stdout",
     "output_type": "stream",
     "text": [
      "Loaded 12000 train, 3000 test\n",
      "Unique businesses: 11953\n"
     ]
    }
   ],
   "source": [
    "import ijson\n",
    "import json\n",
    "import numpy as np\n",
    "import random\n",
    "from sklearn.cluster import MiniBatchKMeans\n",
    "from collections import deque, Counter, defaultdict\n",
    "import pandas as pd\n",
    "\n",
    "# ----------------------------------\n",
    "# 参数设定\n",
    "# ----------------------------------\n",
    "TRAIN_FILE     = 'rl_dataset_train.json'\n",
    "TEST_FILE      = 'rl_dataset_test.json'\n",
    "K_SLATE        = 20        \n",
    "S_CLUSTERS     = 200      \n",
    "EPISODES       = 20       \n",
    "REPLAY_CAP     = 200000   # 经验回放容量\n",
    "BATCH_SIZE     = 256      # 批更新大小\n",
    "ALPHA          = 0.05\n",
    "GAMMA          = 0.95\n",
    "EPSILON_START  = 0.5\n",
    "EPSILON_DECAY  = 0.9\n",
    "TOP_M          = 50       # 候选集M\n",
    "N_TRAIN        = 100000    # 只读入2万训练\n",
    "N_TEST         = 20000     # 读入5千测试\n",
    "CATEGORIES_C   = 100      # 类别One-Hot维度\n",
    "\n",
    "# ----------------------------------\n",
    "# 工具：加载chunked JSON\n",
    "# ----------------------------------\n",
    "def load_chunked_json(path, n=None):\n",
    "    recs, depth, buf = [], 0, ''\n",
    "    with open(path, 'r', encoding='utf-8') as f:\n",
    "        if f.read(1) != '{': f.seek(0)\n",
    "        while True:\n",
    "            c = f.read(1)\n",
    "            if not c: break\n",
    "            if c == '{': depth += 1; buf += c\n",
    "            elif c == '}': buf += c; depth -= 1\n",
    "            else:\n",
    "                if depth > 0: buf += c\n",
    "            if depth == 0 and buf:\n",
    "                try: recs.append(json.loads(buf))\n",
    "                except: pass\n",
    "                buf = ''\n",
    "                if n and len(recs) >= n: break\n",
    "    return recs\n",
    "\n",
    "# 加载数据\n",
    "train_recs = load_chunked_json(TRAIN_FILE, n=N_TRAIN)\n",
    "test_recs  = load_chunked_json(TEST_FILE,  n=N_TEST)\n",
    "print(f\"Loaded {len(train_recs)} train, {len(test_recs)} test\")\n",
    "\n",
    "# ----------------------------------\n",
    "# 建立商户ID索引\n",
    "# ----------------------------------\n",
    "all_biz = set()\n",
    "for rec in train_recs + test_recs:\n",
    "    all_biz.add(rec['action'])\n",
    "    for e in rec.get('state',[])+rec.get('next_state',[]):\n",
    "        all_biz.add(e['business_id'])\n",
    "biz2idx = {b:i for i,b in enumerate(sorted(all_biz))}\n",
    "idx2biz = {i:b for b,i in biz2idx.items()}\n",
    "N_BIZ = len(biz2idx)\n",
    "print(f\"Unique businesses: {N_BIZ}\")"
   ]
  },
  {
   "cell_type": "code",
   "execution_count": 62,
   "id": "1cac0465",
   "metadata": {},
   "outputs": [
    {
     "name": "stdout",
     "output_type": "stream",
     "text": [
      "Top categories: ['Restaurants', 'Food', 'Nightlife', 'Bars', 'American (New)', 'American (Traditional)', 'Breakfast & Brunch', 'Shopping', 'Sandwiches', 'Coffee & Tea', 'Italian', 'Arts & Entertainment', 'Pizza', 'Event Planning & Services', 'Seafood', 'Burgers', 'Mexican', 'Specialty Food', 'Salad', 'Desserts', 'Bakeries', 'Active Life', 'Japanese', 'Sushi Bars', 'Chinese', 'Cafes', 'Fast Food', 'Beauty & Spas', 'Beer', 'Cocktail Bars', 'Fashion', 'Local Flavor', 'Ice Cream & Frozen Yogurt', 'Pubs', 'Hotels & Travel', 'Asian Fusion', 'Steakhouses', 'Wine & Spirits', 'Cajun/Creole', 'Grocery', 'Delis', 'Vegetarian', 'Caterers', 'Barbeque', 'Wine Bars', 'Diners', 'Venues & Event Spaces', 'Lounges', 'Automotive', 'Thai', 'Southern', 'Sports Bars', 'Home & Garden', 'Local Services', 'Mediterranean', 'Music Venues', 'Chicken Wings', 'French', 'Gluten-Free', 'Vietnamese', 'Vegan', 'Breweries', 'Latin American', 'Soup', 'Home Services', 'Nail Salons', 'Health & Medical', 'Public Services & Government', 'Parks', \"Women's Clothing\", 'Ethnic Food', 'Hotels', 'Juice Bars & Smoothies', 'Comfort Food', 'Middle Eastern', 'Food Trucks', 'Gastropubs', 'Donuts', 'Bagels', 'Beer Bar', 'Accessories', 'Hair Salons', 'Tex-Mex', 'Indian', 'Dive Bars', 'Department Stores', 'Auto Repair', 'Korean', 'Hot Dogs', 'Greek', 'Pets', 'Hair Removal', 'Museums', 'Spanish', 'Fitness & Instruction', 'Tapas/Small Plates', 'Arts & Crafts', 'Cinema', 'Noodles', 'Cheesesteaks']\n"
     ]
    }
   ],
   "source": [
    "# ----------------------------------\n",
    "# Step 1: 类别映射 & Biz-Category Map\n",
    "# ----------------------------------\n",
    "counter = Counter()\n",
    "for rec in train_recs:\n",
    "    for e in rec.get('state',[]) + rec.get('next_state',[]):\n",
    "        counter.update(c.strip() for c in e.get('business_categories', []))\n",
    "CATEGORY_LIST = [cat for cat,_ in counter.most_common(CATEGORIES_C)]\n",
    "print(\"Top categories:\", CATEGORY_LIST)\n",
    "# biz -> set(categories)\n",
    "biz_cat_sets = defaultdict(set)\n",
    "for rec in train_recs + test_recs:\n",
    "    for e in rec.get('state',[]) + rec.get('next_state',[]):\n",
    "        bi = biz2idx[e['business_id']]\n",
    "        for c in e.get('business_categories',[]):\n",
    "            biz_cat_sets[bi].add(c.strip())\n",
    "# category -> list(biz_idx)\n",
    "cat_biz_map = defaultdict(list)\n",
    "for bi, cats in biz_cat_sets.items():\n",
    "    for c in cats:\n",
    "        if c in CATEGORY_LIST:\n",
    "            cat_biz_map[c].append(bi)"
   ]
  },
  {
   "cell_type": "code",
   "execution_count": 63,
   "id": "398159f7",
   "metadata": {},
   "outputs": [],
   "source": [
    "# ----------------------------------\n",
    "# Step 2: 特征化 & 状态离散化\n",
    "# ----------------------------------\n",
    "def featurize_event(e):\n",
    "    f = [\n",
    "        e.get('days_since_action', 0),\n",
    "        e.get('recency_weight', 1.0),\n",
    "        e.get('stars', 0.0),\n",
    "        e.get('user_profile',{}).get('review_count',0),\n",
    "        e.get('user_profile',{}).get('average_stars',0.0),\n",
    "        e.get('user_profile',{}).get('friend_count',0),\n",
    "        e.get('business_checkin',{}).get('morning',0),\n",
    "        e.get('business_checkin',{}).get('afternoon',0),\n",
    "        e.get('business_checkin',{}).get('evening',0),\n",
    "        len(e.get('business_categories',[]))\n",
    "    ]\n",
    "    for seg in ['morning','afternoon','evening']:\n",
    "        f.append(1 if e.get('time_segment','')==seg else 0)\n",
    "    cats = set(c.strip() for c in e.get('business_categories',[]))\n",
    "    for cat in CATEGORY_LIST:\n",
    "        f.append(1 if cat in cats else 0)\n",
    "    return f\n",
    "\n",
    "def flatten_states(recs, field):\n",
    "    X = []\n",
    "    for rec in recs:\n",
    "        vec=[]\n",
    "        for e in rec.get(field,[]): vec += featurize_event(e)\n",
    "        X.append(vec)\n",
    "    return np.array(X)\n",
    "\n",
    "S_train  = flatten_states(train_recs,'state')\n",
    "SP_train = flatten_states(train_recs,'next_state')\n",
    "S_test   = flatten_states(test_recs,'state')\n",
    "kmeans = MiniBatchKMeans(n_clusters=S_CLUSTERS,random_state=0,batch_size=1024)\n",
    "state_ids_train = kmeans.fit_predict(S_train)\n",
    "next_ids_train  = kmeans.predict(SP_train)\n",
    "state_ids_test  = kmeans.predict(S_test)\n",
    "\n",
    "actions_train = np.array([biz2idx[r['action']] for r in train_recs])\n",
    "rewards_train = np.array([r['reward'] for r in train_recs])\n"
   ]
  },
  {
   "cell_type": "code",
   "execution_count": 64,
   "id": "0f078515",
   "metadata": {},
   "outputs": [],
   "source": [
    "# ----------------------------------\n",
    "# Step 3: 经验回放 & 用户选择\n",
    "# ----------------------------------\n",
    "class ReplayBuffer:\n",
    "    def __init__(self,cap): self.buf=deque(maxlen=cap)\n",
    "    def push(self,x):self.buf.append(x)\n",
    "    def sample(self,n):return random.sample(self.buf,n)\n",
    "    def __len__(self):return len(self.buf)\n",
    "buffer=ReplayBuffer(REPLAY_CAP)\n",
    "\n",
    "def user_choice(slate,s,Q):\n",
    "    vals=np.array([Q[s,a] for a in slate])\n",
    "    exp=np.exp(vals-vals.max());probs=exp/exp.sum()\n",
    "    return np.random.choice(slate,p=probs)\n"
   ]
  },
  {
   "cell_type": "code",
   "execution_count": 65,
   "id": "cbff716a",
   "metadata": {},
   "outputs": [],
   "source": [
    "# ----------------------------------\n",
    "# Step 4: 候选集生成 (Category-based)\n",
    "# ----------------------------------\n",
    "\n",
    "def retrieve_candidates(rec, M=TOP_M):\n",
    "    # 基于用户最后交互的类别\n",
    "    last_cats = rec['state'][-1]['business_categories']\n",
    "    cand = []\n",
    "    for c in last_cats:\n",
    "        for bi in cat_biz_map.get(c.strip(),[]):\n",
    "            if bi not in cand: cand.append(bi)\n",
    "    if len(cand) >= M:\n",
    "        return random.sample(cand, M)\n",
    "    # 不够则补全随机\n",
    "    pool = [i for i in range(N_BIZ) if i not in cand]\n",
    "    return cand + random.sample(pool, M-len(cand))"
   ]
  },
  {
   "cell_type": "code",
   "execution_count": 66,
   "id": "088db7b6",
   "metadata": {},
   "outputs": [],
   "source": [
    "# ----------------------------------\n",
    "# Step 5: Slate 生成 (MMR)\n",
    "# ----------------------------------\n",
    "def generate_slate_mmr(s, rec, Q, M=TOP_M, K=K_SLATE, lam=0.7):\n",
    "    cand = retrieve_candidates(rec, M)\n",
    "    slate = []\n",
    "    while len(slate) < K:\n",
    "        best, best_score = None, -1e9\n",
    "        for a in cand:\n",
    "            if a in slate: continue\n",
    "            rel = Q[s,a]\n",
    "            if not slate:\n",
    "                score = rel\n",
    "            else:\n",
    "                # Jaccard similarity\n",
    "                div = max(\n",
    "                    len(biz_cat_sets[a] & biz_cat_sets[b])/\n",
    "                    len(biz_cat_sets[a] | biz_cat_sets[b])\n",
    "                    for b in slate\n",
    "                )\n",
    "                score = lam*rel - (1-lam)*div\n",
    "            if score>best_score:\n",
    "                best_score, best = score, a\n",
    "        slate.append(best)\n",
    "    return slate"
   ]
  },
  {
   "cell_type": "code",
   "execution_count": 67,
   "id": "d95d94df",
   "metadata": {},
   "outputs": [],
   "source": [
    "# ----------------------------------\n",
    "# Step 6: Tabular SlateQ Agent\n",
    "# ----------------------------------\n",
    "class SlateQAgent:\n",
    "    def __init__(self,S,N,alpha,gamma,eps):\n",
    "        self.Q = np.zeros((S,N));self.alpha=alpha;self.gamma=gamma;self.epsilon=eps\n",
    "    def select(self,s,rec):\n",
    "        if random.random()<self.epsilon:\n",
    "            return random.sample(range(N_BIZ),K_SLATE)\n",
    "        return generate_slate_mmr(s,rec,self.Q)\n",
    "    def update(self,s,slate,r,s_next):\n",
    "        best = np.max(self.Q[s_next])\n",
    "        for a in slate:\n",
    "            td = r + self.gamma*best - self.Q[s,a]\n",
    "            self.Q[s,a] += self.alpha*td\n",
    "agent=SlateQAgent(S_CLUSTERS,N_BIZ,ALPHA,GAMMA,EPSILON_START)\n"
   ]
  },
  {
   "cell_type": "code",
   "execution_count": 68,
   "id": "f8b5e614",
   "metadata": {},
   "outputs": [
    {
     "name": "stdout",
     "output_type": "stream",
     "text": [
      "--- Starting Episode 1/10 ---\n"
     ]
    },
    {
     "data": {
      "application/vnd.jupyter.widget-view+json": {
       "model_id": "84027b5920184d668e77c7706f7dbbec",
       "version_major": 2,
       "version_minor": 0
      },
      "text/plain": [
       "Epoch 1 samples:   0%|                                | 0/12000 [00:00<?, ?it/s]"
      ]
     },
     "metadata": {},
     "output_type": "display_data"
    },
    {
     "data": {
      "application/vnd.jupyter.widget-view+json": {
       "model_id": "7b1f326397ca4ea9b163fd13138fd2b5",
       "version_major": 2,
       "version_minor": 0
      },
      "text/plain": [
       "Batch updates:   0%|                                     | 0/46 [00:00<?, ?it/s]"
      ]
     },
     "metadata": {},
     "output_type": "display_data"
    },
    {
     "name": "stdout",
     "output_type": "stream",
     "text": [
      "Completed Episode 1/10, ε=0.450\n",
      "--- Starting Episode 2/10 ---\n"
     ]
    },
    {
     "data": {
      "application/vnd.jupyter.widget-view+json": {
       "model_id": "e87930b85be4407bae66889132c09028",
       "version_major": 2,
       "version_minor": 0
      },
      "text/plain": [
       "Epoch 2 samples:   0%|                                | 0/12000 [00:00<?, ?it/s]"
      ]
     },
     "metadata": {},
     "output_type": "display_data"
    },
    {
     "data": {
      "application/vnd.jupyter.widget-view+json": {
       "model_id": "9b672319969742e7b9d0c818df5c1593",
       "version_major": 2,
       "version_minor": 0
      },
      "text/plain": [
       "Batch updates:   0%|                                     | 0/93 [00:00<?, ?it/s]"
      ]
     },
     "metadata": {},
     "output_type": "display_data"
    },
    {
     "name": "stdout",
     "output_type": "stream",
     "text": [
      "Completed Episode 2/10, ε=0.405\n",
      "--- Starting Episode 3/10 ---\n"
     ]
    },
    {
     "data": {
      "application/vnd.jupyter.widget-view+json": {
       "model_id": "c5ebafd208204111a2ca16aa4a743d1c",
       "version_major": 2,
       "version_minor": 0
      },
      "text/plain": [
       "Epoch 3 samples:   0%|                                | 0/12000 [00:00<?, ?it/s]"
      ]
     },
     "metadata": {},
     "output_type": "display_data"
    },
    {
     "data": {
      "application/vnd.jupyter.widget-view+json": {
       "model_id": "c3086960cad44fe9897cec3adafbda88",
       "version_major": 2,
       "version_minor": 0
      },
      "text/plain": [
       "Batch updates:   0%|                                    | 0/140 [00:00<?, ?it/s]"
      ]
     },
     "metadata": {},
     "output_type": "display_data"
    },
    {
     "name": "stdout",
     "output_type": "stream",
     "text": [
      "Completed Episode 3/10, ε=0.365\n",
      "--- Starting Episode 4/10 ---\n"
     ]
    },
    {
     "data": {
      "application/vnd.jupyter.widget-view+json": {
       "model_id": "bd5a8af8d2af4a6da0fd9dfd35bc1195",
       "version_major": 2,
       "version_minor": 0
      },
      "text/plain": [
       "Epoch 4 samples:   0%|                                | 0/12000 [00:00<?, ?it/s]"
      ]
     },
     "metadata": {},
     "output_type": "display_data"
    },
    {
     "data": {
      "application/vnd.jupyter.widget-view+json": {
       "model_id": "9606bc15c2944859ae8f0e17b2b99a3c",
       "version_major": 2,
       "version_minor": 0
      },
      "text/plain": [
       "Batch updates:   0%|                                    | 0/187 [00:00<?, ?it/s]"
      ]
     },
     "metadata": {},
     "output_type": "display_data"
    },
    {
     "name": "stdout",
     "output_type": "stream",
     "text": [
      "Completed Episode 4/10, ε=0.328\n",
      "--- Starting Episode 5/10 ---\n"
     ]
    },
    {
     "data": {
      "application/vnd.jupyter.widget-view+json": {
       "model_id": "b4071ae0d1a344079158e0a66a8e8221",
       "version_major": 2,
       "version_minor": 0
      },
      "text/plain": [
       "Epoch 5 samples:   0%|                                | 0/12000 [00:00<?, ?it/s]"
      ]
     },
     "metadata": {},
     "output_type": "display_data"
    },
    {
     "data": {
      "application/vnd.jupyter.widget-view+json": {
       "model_id": "fa0295f1e8284e7199a10d9f36eb8388",
       "version_major": 2,
       "version_minor": 0
      },
      "text/plain": [
       "Batch updates:   0%|                                    | 0/234 [00:00<?, ?it/s]"
      ]
     },
     "metadata": {},
     "output_type": "display_data"
    },
    {
     "name": "stdout",
     "output_type": "stream",
     "text": [
      "Completed Episode 5/10, ε=0.295\n",
      "--- Starting Episode 6/10 ---\n"
     ]
    },
    {
     "data": {
      "application/vnd.jupyter.widget-view+json": {
       "model_id": "17d0c374b57f49a3b89539b18497c541",
       "version_major": 2,
       "version_minor": 0
      },
      "text/plain": [
       "Epoch 6 samples:   0%|                                | 0/12000 [00:00<?, ?it/s]"
      ]
     },
     "metadata": {},
     "output_type": "display_data"
    },
    {
     "data": {
      "application/vnd.jupyter.widget-view+json": {
       "model_id": "a1274ce2ec7f4746bf48155e88ee1569",
       "version_major": 2,
       "version_minor": 0
      },
      "text/plain": [
       "Batch updates:   0%|                                    | 0/281 [00:00<?, ?it/s]"
      ]
     },
     "metadata": {},
     "output_type": "display_data"
    },
    {
     "name": "stdout",
     "output_type": "stream",
     "text": [
      "Completed Episode 6/10, ε=0.266\n",
      "--- Starting Episode 7/10 ---\n"
     ]
    },
    {
     "data": {
      "application/vnd.jupyter.widget-view+json": {
       "model_id": "09607bbcbef144c681d9a20b3bde5241",
       "version_major": 2,
       "version_minor": 0
      },
      "text/plain": [
       "Epoch 7 samples:   0%|                                | 0/12000 [00:00<?, ?it/s]"
      ]
     },
     "metadata": {},
     "output_type": "display_data"
    },
    {
     "data": {
      "application/vnd.jupyter.widget-view+json": {
       "model_id": "7338df6ca45a47f5b56d592176f65eac",
       "version_major": 2,
       "version_minor": 0
      },
      "text/plain": [
       "Batch updates:   0%|                                    | 0/328 [00:00<?, ?it/s]"
      ]
     },
     "metadata": {},
     "output_type": "display_data"
    },
    {
     "name": "stdout",
     "output_type": "stream",
     "text": [
      "Completed Episode 7/10, ε=0.239\n",
      "--- Starting Episode 8/10 ---\n"
     ]
    },
    {
     "data": {
      "application/vnd.jupyter.widget-view+json": {
       "model_id": "a61622f715d74a21939cb6f8c91017f3",
       "version_major": 2,
       "version_minor": 0
      },
      "text/plain": [
       "Epoch 8 samples:   0%|                                | 0/12000 [00:00<?, ?it/s]"
      ]
     },
     "metadata": {},
     "output_type": "display_data"
    },
    {
     "data": {
      "application/vnd.jupyter.widget-view+json": {
       "model_id": "431adafee2af492595af889975035296",
       "version_major": 2,
       "version_minor": 0
      },
      "text/plain": [
       "Batch updates:   0%|                                    | 0/375 [00:00<?, ?it/s]"
      ]
     },
     "metadata": {},
     "output_type": "display_data"
    },
    {
     "name": "stdout",
     "output_type": "stream",
     "text": [
      "Completed Episode 8/10, ε=0.215\n",
      "--- Starting Episode 9/10 ---\n"
     ]
    },
    {
     "data": {
      "application/vnd.jupyter.widget-view+json": {
       "model_id": "f73d4d9798d74adfb782be31b984eec6",
       "version_major": 2,
       "version_minor": 0
      },
      "text/plain": [
       "Epoch 9 samples:   0%|                                | 0/12000 [00:00<?, ?it/s]"
      ]
     },
     "metadata": {},
     "output_type": "display_data"
    },
    {
     "data": {
      "application/vnd.jupyter.widget-view+json": {
       "model_id": "90c83f50f4574a9e9a45f36fee9e4246",
       "version_major": 2,
       "version_minor": 0
      },
      "text/plain": [
       "Batch updates:   0%|                                    | 0/421 [00:00<?, ?it/s]"
      ]
     },
     "metadata": {},
     "output_type": "display_data"
    },
    {
     "name": "stdout",
     "output_type": "stream",
     "text": [
      "Completed Episode 9/10, ε=0.194\n",
      "--- Starting Episode 10/10 ---\n"
     ]
    },
    {
     "data": {
      "application/vnd.jupyter.widget-view+json": {
       "model_id": "e9bd5f4c9f90417bb80dec446e660eb0",
       "version_major": 2,
       "version_minor": 0
      },
      "text/plain": [
       "Epoch 10 samples:   0%|                               | 0/12000 [00:00<?, ?it/s]"
      ]
     },
     "metadata": {},
     "output_type": "display_data"
    },
    {
     "data": {
      "application/vnd.jupyter.widget-view+json": {
       "model_id": "b0b6e7d641d94fbfa3309381469b59be",
       "version_major": 2,
       "version_minor": 0
      },
      "text/plain": [
       "Batch updates:   0%|                                    | 0/468 [00:00<?, ?it/s]"
      ]
     },
     "metadata": {},
     "output_type": "display_data"
    },
    {
     "name": "stdout",
     "output_type": "stream",
     "text": [
      "Completed Episode 10/10, ε=0.174\n"
     ]
    }
   ],
   "source": [
    "# ----------------------------------\n",
    "# Step 7: 训练循环（带进度条）\n",
    "# ----------------------------------\n",
    "from tqdm.auto import tqdm\n",
    "\n",
    "for ep in range(EPISODES):\n",
    "    print(f\"--- Starting Episode {ep+1}/{EPISODES} ---\")\n",
    "    # 使用 tqdm 展示对训练样本的进度\n",
    "    for i, rec in enumerate(tqdm(train_recs, desc=f\"Epoch {ep+1} samples\", ncols=80)):\n",
    "        s = state_ids_train[i]\n",
    "        slate = agent.select(s, rec)\n",
    "        r = rewards_train[i]\n",
    "        s_next = next_ids_train[i]\n",
    "        buffer.push((s, slate, r, s_next))\n",
    "\n",
    "    # 批量更新也用 tqdm\n",
    "    for _ in tqdm(range(len(buffer) // BATCH_SIZE), desc=\"Batch updates\", ncols=80):\n",
    "        for s, slate, r, s_next in buffer.sample(BATCH_SIZE):\n",
    "            agent.update(s, slate, r, s_next)\n",
    "\n",
    "    agent.epsilon *= EPSILON_DECAY\n",
    "    print(f\"Completed Episode {ep+1}/{EPISODES}, ε={agent.epsilon:.3f}\")\n",
    "\n"
   ]
  },
  {
   "cell_type": "code",
   "execution_count": null,
   "id": "6b0d89f8",
   "metadata": {},
   "outputs": [],
   "source": []
  },
  {
   "cell_type": "code",
   "execution_count": 69,
   "id": "adf2c9d6",
   "metadata": {},
   "outputs": [
    {
     "name": "stdout",
     "output_type": "stream",
     "text": [
      "Hit Rate@20: 0.0013\n",
      "Precision@20: 0.0001\n",
      "Recall@20: 0.0013\n",
      "F1@20: 0.0001\n",
      "NDCG@20: 0.0003\n"
     ]
    }
   ],
   "source": [
    "# ----------------------------------\n",
    "# Step 8: 离线评估 HIT/NDCG...\n",
    "# ----------------------------------\n",
    "agent.epsilon=0.0\n",
    "hits=0;ndcg=0.0\n",
    "for i,rec in enumerate(test_recs):\n",
    "    s = state_ids_test[i]\n",
    "    slate=agent.select(s,rec)\n",
    "    true = biz2idx[rec['action']]\n",
    "    if true in slate:\n",
    "        hits+=1\n",
    "        pos = slate.index(true)\n",
    "        ndcg += 1/np.log2(pos+2)\n",
    "num=len(test_recs)\n",
    "hit_rate=hits/num\n",
    "precision=hits/(num*K_SLATE)\n",
    "recall=hit_rate\n",
    "f1 = 2*precision*recall/(precision+recall) if precision+recall>0 else 0.0\n",
    "ndcg=ndcg/num\n",
    "print(f\"Hit Rate@{K_SLATE}: {hit_rate:.4f}\")\n",
    "print(f\"Precision@{K_SLATE}: {precision:.4f}\")\n",
    "print(f\"Recall@{K_SLATE}: {recall:.4f}\")\n",
    "print(f\"F1@{K_SLATE}: {f1:.4f}\")\n",
    "print(f\"NDCG@{K_SLATE}: {ndcg:.4f}\")\n"
   ]
  },
  {
   "cell_type": "code",
   "execution_count": null,
   "id": "dc8939bc",
   "metadata": {},
   "outputs": [],
   "source": []
  },
  {
   "cell_type": "code",
   "execution_count": null,
   "id": "2a62a38f",
   "metadata": {},
   "outputs": [],
   "source": []
  },
  {
   "cell_type": "code",
   "execution_count": null,
   "id": "2177dde0",
   "metadata": {},
   "outputs": [],
   "source": []
  },
  {
   "cell_type": "code",
   "execution_count": null,
   "id": "e76530c2",
   "metadata": {},
   "outputs": [],
   "source": []
  },
  {
   "cell_type": "code",
   "execution_count": null,
   "id": "14746225",
   "metadata": {},
   "outputs": [],
   "source": []
  },
  {
   "cell_type": "code",
   "execution_count": null,
   "id": "c2931712",
   "metadata": {},
   "outputs": [],
   "source": []
  },
  {
   "cell_type": "code",
   "execution_count": null,
   "id": "d1da09c8",
   "metadata": {},
   "outputs": [],
   "source": []
  },
  {
   "cell_type": "code",
   "execution_count": null,
   "id": "271aed22",
   "metadata": {},
   "outputs": [],
   "source": []
  }
 ],
 "metadata": {
  "kernelspec": {
   "display_name": "Python 3 (ipykernel)",
   "language": "python",
   "name": "python3"
  },
  "language_info": {
   "codemirror_mode": {
    "name": "ipython",
    "version": 3
   },
   "file_extension": ".py",
   "mimetype": "text/x-python",
   "name": "python",
   "nbconvert_exporter": "python",
   "pygments_lexer": "ipython3",
   "version": "3.7.8"
  }
 },
 "nbformat": 4,
 "nbformat_minor": 5
}
